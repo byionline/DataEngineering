{
 "cells": [
  {
   "cell_type": "markdown",
   "metadata": {},
   "source": [
    "<center><h1><b>Write a script add data to a MySQL based backend database.</b></h1></center>"
   ]
  },
  {
   "cell_type": "markdown",
   "metadata": {},
   "source": [
    "<p> I just make a copy of <b>Excel sheet name: beginner_assignment01</b> save to my google drive to perform required task. Required Library to be install:\n",
    "<li>1. pip install gspread</li>\n",
    "    <li>2. pip install oauth2client</li>\n",
    "    <li>3. pip install mysql-connector</li>\n",
    "Now Follow these steps to access Google Sheet via python :\n",
    "    <li>1. Go to the <b>Google APIs Console</b>.</li>\n",
    "    <li>2. Create a <b>new Project</b>.</li>\n",
    "    <li>3. Click <b>Enable API</b>. Search for and enable <b>Google Drive API</b>.</li>\n",
    "    <li>4. <b>Create Credentials</b> and Select <b>WebServer</b> and <b>Application Data</b>. In Project Role Select <b>Editor</b>.</li>\n",
    "<li>5. Download JSON file save to your project folder and rename it as your required.</li>\n",
    "    <li><b>Open the JSON file and copy the cilent_email address and Share your Google Sheet with that Email ID with Write Permisssion. Otherwise you will get error SheetsNotFound</b></li>\n",
    "    <b>Note: When you run the script first time it gives error as to enable Google Sheet just click the link and its done. </b>\n",
    "</p>"
   ]
  },
  {
   "cell_type": "code",
   "execution_count": 1,
   "metadata": {},
   "outputs": [],
   "source": [
    "# import libraries\n",
    "import gspread\n",
    "import mysql_credential as key  # Your MySQl Credential python file here: mysql_credential.py\n",
    "import mysql.connector\n",
    "from oauth2client.service_account import ServiceAccountCredentials\n"
   ]
  },
  {
   "cell_type": "code",
   "execution_count": 2,
   "metadata": {},
   "outputs": [],
   "source": [
    "# initialize variables for gspread\n",
    "scope = ['https://spreadsheets.google.com/feeds','https://www.googleapis.com/auth/drive']\n",
    "creds = ServiceAccountCredentials.from_json_keyfile_name('secret.json', scope)\n",
    "client = gspread.authorize(creds)"
   ]
  },
  {
   "cell_type": "code",
   "execution_count": 3,
   "metadata": {},
   "outputs": [],
   "source": [
    "# define method to pull data from spreadsheet\n",
    "def GetSpreadsheetData(sheetName, worksheetIndex):    \n",
    "    sheet = client.open(sheetName).get_worksheet(worksheetIndex)    \n",
    "    return sheet.get_all_values()[1:]"
   ]
  },
  {
   "cell_type": "code",
   "execution_count": 4,
   "metadata": {},
   "outputs": [],
   "source": [
    "# Client Email inside secret.json file must have edit permission on the Google Sheet you are using\n",
    "data_product = GetSpreadsheetData('Copy of beginner_assignment01', 0)"
   ]
  },
  {
   "cell_type": "code",
   "execution_count": 5,
   "metadata": {},
   "outputs": [
    {
     "name": "stdout",
     "output_type": "stream",
     "text": [
      "['Demo Product 1', 'Product Model 1', '98765987659801', 'Group 1', '1001']\n",
      "110\n"
     ]
    }
   ],
   "source": [
    "# View Data From Google Sheets \n",
    "print(data_product[0])\n",
    "print(len(data_product))"
   ]
  },
  {
   "cell_type": "code",
   "execution_count": 6,
   "metadata": {},
   "outputs": [],
   "source": [
    "# Client Email inside secret.json file must have edit permission on the Google Sheet you are using\n",
    "data_group = GetSpreadsheetData('Copy of beginner_assignment01', 1)"
   ]
  },
  {
   "cell_type": "code",
   "execution_count": 7,
   "metadata": {},
   "outputs": [
    {
     "name": "stdout",
     "output_type": "stream",
     "text": [
      "['Group 1', 'Group Number 1', 'yes']\n",
      "22\n"
     ]
    }
   ],
   "source": [
    "# View Data From Google Sheets\n",
    "data_group\n",
    "print(data_group[0])\n",
    "print(len(data_group))"
   ]
  },
  {
   "cell_type": "code",
   "execution_count": 8,
   "metadata": {},
   "outputs": [],
   "source": [
    "# method to write this data to MySQL\n",
    "\n",
    "def ToMySQLTable(sql_data):\n",
    "    try:\n",
    "        connection = mysql.connector.connect(\n",
    "            user = key.user,     \n",
    "            password = key.password,        \n",
    "            host = key.host,        \n",
    "            database = key.database        \n",
    "        )\n",
    "        # Drop Group Table if it exists\n",
    "        sql_drop = \"DROP TABLE IF EXISTS {} \".format('GroupList')\n",
    "        #create Group Table\n",
    "        sql_create_table = \"\"\"CREATE TABLE {}( \n",
    "            GroupId int NOT NULL AUTO_INCREMENT,\n",
    "            GroupName VARCHAR(30) NOT NULL,\n",
    "            GroupDescription VARCHAR(30),\n",
    "            isActive VARCHAR(3) NOT NULL,\n",
    "            PRIMARY KEY (GroupId)\n",
    "            )\"\"\".format('GroupList')\n",
    "         \n",
    "        # Insert into GroupList Table From Google Sheet\n",
    "        sql_insert_statement = \"\"\"INSERT INTO {}( \n",
    "            GroupName,\n",
    "            GroupDescription,\n",
    "            isActive)\n",
    "            VALUES ( %s,%s,%s )\"\"\".format('GroupList')\n",
    "        \n",
    "        cursor = connection.cursor()        \n",
    "        cursor.execute(sql_drop)\n",
    "        print('Table {} has been dropped'.format('GroupList'))        \n",
    "        cursor.execute(sql_create_table)        \n",
    "        print('Table {} has been created'.format('GroupList'))\n",
    "        \n",
    "        \n",
    "        \n",
    "        for i in sql_data:            \n",
    "            cursor.execute(sql_insert_statement, i)\n",
    "            \n",
    "            connection.commit()        \n",
    "           # print(\"Table {} successfully updated.\".format('GroupList'))\n",
    "            \n",
    "        \n",
    "        \n",
    "            \n",
    "    except mysql.connector.Error as error :        \n",
    "        connection.rollback()        \n",
    "        print(\"Error: {}. Table {} not updated!\".format(error, 'GroupList'))\n",
    "        \n",
    "                \n",
    "    finally:        \n",
    "        cursor.execute('SELECT COUNT(*) FROM {}'.format('GroupList'))        \n",
    "        rowCount = cursor.fetchone()[0]        \n",
    "        print('GroupList', 'row count:', rowCount) \n",
    "        \n",
    "        \n",
    "        \n",
    "        if connection.is_connected():            \n",
    "            cursor.close()            \n",
    "            connection.close()            \n",
    "            print(\"MySQL connection is closed.\")\n",
    "                        "
   ]
  },
  {
   "cell_type": "code",
   "execution_count": 9,
   "metadata": {},
   "outputs": [],
   "source": [
    "# method to write this data to MySQL\n",
    "\n",
    "def ToMySQLTable1(sql_data):\n",
    "    try:\n",
    "        connection = mysql.connector.connect(\n",
    "            user = key.user,     \n",
    "            password = key.password,        \n",
    "            host = key.host,        \n",
    "            database = key.database        \n",
    "        )\n",
    "        # Drop Product Table if it exists\n",
    "        sql_drop = \"DROP TABLE IF EXISTS {} \".format('ProductList')\n",
    "        # Create Product Table\n",
    "        sql_create_table = \"\"\"CREATE TABLE {}( \n",
    "            ProductId int NOT NULL AUTO_INCREMENT,\n",
    "            ProductName varchar(255) NOT NULL,\n",
    "            ProductModel varchar(255),\n",
    "            ProductSerial varchar(255),\n",
    "            GroupAssociated varchar(255) NOT NULL REFERENCES GroupList(GroupId),\n",
    "            ProductMRP numeric(9,2),\n",
    "            PRIMARY KEY (ProductId)\n",
    "            )\"\"\".format('ProductList')\n",
    "         \n",
    "        # Insert into ProductList Table From Google Sheet\n",
    "        sql_insert_statement = \"\"\"INSERT INTO {}( \n",
    "            ProductName,\n",
    "            ProductModel,\n",
    "            ProductSerial,\n",
    "            GroupAssociated,\n",
    "            ProductMRP)\n",
    "            VALUES ( %s,%s,%s,%s,%s )\"\"\".format('ProductList')\n",
    "        cursor = connection.cursor()        \n",
    "        cursor.execute(sql_drop)\n",
    "        print('Table {} has been dropped'.format('ProductList'))        \n",
    "        cursor.execute(sql_create_table)        \n",
    "        print('Table {} has been created'.format('ProductList'))\n",
    "        \n",
    "        \n",
    "        for i in sql_data:            \n",
    "            cursor.execute(sql_insert_statement, i)\n",
    "            \n",
    "            connection.commit()        \n",
    "            #print(\"Table {} successfully updated.\".format('ProductList'))\n",
    "        \n",
    "        \n",
    "            \n",
    "    except mysql.connector.Error as error :        \n",
    "        connection.rollback()        \n",
    "        print(\"Error: {}. Table {} not updated!\".format(error, 'ProductList'))\n",
    "                \n",
    "    finally:        \n",
    "        \n",
    "        cursor.execute('SELECT COUNT(*) FROM {}'.format('ProductList'))        \n",
    "        rowCount = cursor.fetchone()[0]        \n",
    "        print('ProductList', 'row count:', rowCount) \n",
    "        \n",
    "        \n",
    "        if connection.is_connected():            \n",
    "            cursor.close()            \n",
    "            connection.close()            \n",
    "            print(\"MySQL connection is closed.\")\n",
    "                        "
   ]
  },
  {
   "cell_type": "code",
   "execution_count": 10,
   "metadata": {},
   "outputs": [
    {
     "name": "stdout",
     "output_type": "stream",
     "text": [
      "Table GroupList has been dropped\n",
      "Table GroupList has been created\n",
      "GroupList row count: 22\n",
      "MySQL connection is closed.\n"
     ]
    }
   ],
   "source": [
    "ToMySQLTable(data_group)"
   ]
  },
  {
   "cell_type": "code",
   "execution_count": 11,
   "metadata": {},
   "outputs": [
    {
     "name": "stdout",
     "output_type": "stream",
     "text": [
      "Table ProductList has been dropped\n",
      "Table ProductList has been created\n",
      "ProductList row count: 110\n",
      "MySQL connection is closed.\n"
     ]
    }
   ],
   "source": [
    "ToMySQLTable1(data_product)"
   ]
  },
  {
   "cell_type": "code",
   "execution_count": null,
   "metadata": {},
   "outputs": [],
   "source": []
  }
 ],
 "metadata": {
  "kernelspec": {
   "display_name": "Python 3",
   "language": "python",
   "name": "python3"
  },
  "language_info": {
   "codemirror_mode": {
    "name": "ipython",
    "version": 3
   },
   "file_extension": ".py",
   "mimetype": "text/x-python",
   "name": "python",
   "nbconvert_exporter": "python",
   "pygments_lexer": "ipython3",
   "version": "3.7.3"
  }
 },
 "nbformat": 4,
 "nbformat_minor": 2
}
