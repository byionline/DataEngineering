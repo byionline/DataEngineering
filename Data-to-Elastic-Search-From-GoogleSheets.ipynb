{
 "cells": [
  {
   "cell_type": "markdown",
   "metadata": {},
   "source": [
    "<center><h1><b>Write a script add data to a Elastic Search based Backend database.</b></h1></center>"
   ]
  },
  {
   "cell_type": "markdown",
   "metadata": {},
   "source": [
    "<p> I just make a copy of <b>Excel sheet name: beginner_assignment01</b> save to my google drive to perform required task. Required Library to be install:\n",
    "<li>1. pip install gspread</li>\n",
    "    <li>2. pip install oauth2client</li>\n",
    "    <li>3. pip install mysql-connector</li>\n",
    "    <li>4. pip install elasticsearch</li>\n",
    "Now Follow these steps to access Google Sheet via python :\n",
    "    <li>1. Go to the <b>Google APIs Console</b>.</li>\n",
    "    <li>2. Create a <b>new Project</b>.</li>\n",
    "    <li>3. Click <b>Enable API</b>. Search for and enable <b>Google Drive API</b>.</li>\n",
    "    <li>4. <b>Create Credentials</b> and Select <b>WebServer</b> and <b>Application Data</b>. In Project Role Select <b>Editor</b>.</li>\n",
    "<li>5. Download JSON file save to your project folder and rename it as your required.</li>\n",
    "    <li><b>Open the JSON file and copy the cilent_email address and Share your Google Sheet with that Email ID with Write Permisssion. Otherwise you will get error SheetsNotFound</b></li>\n",
    "    <b>Note: When you run the script first time it gives error as to enable Google Sheet just click the link and its done. </b>\n",
    "</p>"
   ]
  },
  {
   "cell_type": "code",
   "execution_count": 1,
   "metadata": {},
   "outputs": [],
   "source": [
    "# import libraries\n",
    "import gspread\n",
    "import mysql_credential as key  # Your MySQl Credential python file here: mysql_credential.py\n",
    "import mysql.connector\n",
    "from oauth2client.service_account import ServiceAccountCredentials\n",
    "# Install the elastic search library to use with python\n",
    "from elasticsearch import Elasticsearch"
   ]
  },
  {
   "cell_type": "code",
   "execution_count": 2,
   "metadata": {},
   "outputs": [],
   "source": [
    "# initialize variables for gspread\n",
    "scope = ['https://spreadsheets.google.com/feeds','https://www.googleapis.com/auth/drive']\n",
    "creds = ServiceAccountCredentials.from_json_keyfile_name('secret.json', scope)\n",
    "client = gspread.authorize(creds)"
   ]
  },
  {
   "cell_type": "code",
   "execution_count": 3,
   "metadata": {},
   "outputs": [],
   "source": [
    "# define method to pull data from spreadsheet\n",
    "def GetSpreadsheetData(sheetName, worksheetIndex):    \n",
    "    sheet = client.open(sheetName).get_worksheet(worksheetIndex)    \n",
    "    return sheet.get_all_values()[1:]"
   ]
  },
  {
   "cell_type": "code",
   "execution_count": 4,
   "metadata": {},
   "outputs": [],
   "source": [
    "# Client Email inside secret.json file must have edit permission on the Google Sheet you are using\n",
    "data_product = GetSpreadsheetData('Copy of beginner_assignment01', 0)"
   ]
  },
  {
   "cell_type": "code",
   "execution_count": 5,
   "metadata": {},
   "outputs": [
    {
     "name": "stdout",
     "output_type": "stream",
     "text": [
      "['Demo Product 1', 'Product Model 1', '98765987659801', 'Group 1', '1001']\n",
      "110\n"
     ]
    }
   ],
   "source": [
    "# View Data From Google Sheets \n",
    "print(data_product[0])\n",
    "print(len(data_product))"
   ]
  },
  {
   "cell_type": "code",
   "execution_count": 6,
   "metadata": {},
   "outputs": [],
   "source": [
    "# Client Email inside secret.json file must have edit permission on the Google Sheet you are using\n",
    "data_group = GetSpreadsheetData('Copy of beginner_assignment01', 1)"
   ]
  },
  {
   "cell_type": "code",
   "execution_count": 7,
   "metadata": {},
   "outputs": [
    {
     "name": "stdout",
     "output_type": "stream",
     "text": [
      "Group 2\n",
      "22\n"
     ]
    }
   ],
   "source": [
    "# View Data From Google Sheets\n",
    "data_group\n",
    "print(data_group[1][0])\n",
    "print(len(data_group))"
   ]
  },
  {
   "cell_type": "code",
   "execution_count": 8,
   "metadata": {},
   "outputs": [],
   "source": [
    "#connect to our cluster\n",
    "es = Elasticsearch([{'host': '101.53.136.181', 'port': 9200}])"
   ]
  },
  {
   "cell_type": "code",
   "execution_count": 9,
   "metadata": {},
   "outputs": [
    {
     "data": {
      "text/plain": [
       "{'acknowledged': True}"
      ]
     },
     "execution_count": 9,
     "metadata": {},
     "output_type": "execute_result"
    }
   ],
   "source": [
    "# Delete Elastic Search Index\n",
    "es.indices.delete(index='grouplisting', ignore=[400, 404])"
   ]
  },
  {
   "cell_type": "code",
   "execution_count": 10,
   "metadata": {},
   "outputs": [
    {
     "data": {
      "text/plain": [
       "{'acknowledged': True}"
      ]
     },
     "execution_count": 10,
     "metadata": {},
     "output_type": "execute_result"
    }
   ],
   "source": [
    "# Delete Elastic Search Index\n",
    "es.indices.delete(index='productlisting', ignore=[400, 404])"
   ]
  },
  {
   "cell_type": "code",
   "execution_count": 11,
   "metadata": {},
   "outputs": [],
   "source": [
    "# Writing Data to Elastic Search For Group Listing\n",
    "for i in range(len(data_group)):\n",
    "    es.index(index='grouplisting', doc_type='group', id=i+1, body={\n",
    "        \"group name\": data_group[i][0],\n",
    "        \"group description\": data_group[i][1],\n",
    "        \"isActive\": data_group[i][2],\n",
    "    })"
   ]
  },
  {
   "cell_type": "code",
   "execution_count": 12,
   "metadata": {},
   "outputs": [],
   "source": [
    "# Writing Data to Elastic Search For Product Listing\n",
    "for i in range(len(data_product)):\n",
    "    es.index(index='productlisting', doc_type='product', id=i+1, body={\n",
    "        \"Product Name\": data_product[i][0],\n",
    "        \"Model Name\": data_product[i][1],\n",
    "        \"Product Serial No\": data_product[i][2],\n",
    "        \"Group Associated\": data_product[i][3],\n",
    "        \"product MRP (rs.)\": data_product[i][4],\n",
    "        \n",
    "    })"
   ]
  },
  {
   "cell_type": "code",
   "execution_count": null,
   "metadata": {},
   "outputs": [],
   "source": []
  }
 ],
 "metadata": {
  "kernelspec": {
   "display_name": "Python 3",
   "language": "python",
   "name": "python3"
  },
  "language_info": {
   "codemirror_mode": {
    "name": "ipython",
    "version": 3
   },
   "file_extension": ".py",
   "mimetype": "text/x-python",
   "name": "python",
   "nbconvert_exporter": "python",
   "pygments_lexer": "ipython3",
   "version": "3.7.3"
  }
 },
 "nbformat": 4,
 "nbformat_minor": 2
}
